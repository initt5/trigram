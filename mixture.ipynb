{
 "cells": [
  {
   "cell_type": "code",
   "execution_count": 1,
   "id": "2bfa64d3",
   "metadata": {
    "tags": []
   },
   "outputs": [],
   "source": [
    "import torch\n",
    "import torch.nn.functional as F\n",
    "import random\n",
    "import matplotlib.pyplot as plt\n",
    "%matplotlib inline"
   ]
  },
  {
   "cell_type": "code",
   "execution_count": 2,
   "id": "9f1cd479",
   "metadata": {
    "tags": []
   },
   "outputs": [],
   "source": [
    "words = open(\"names.txt\").read().splitlines()\n",
    "random.seed(42)\n",
    "random.shuffle(words)"
   ]
  },
  {
   "cell_type": "code",
   "execution_count": 3,
   "id": "f5a8535c-6440-4f11-91b0-0b27789d5208",
   "metadata": {
    "tags": []
   },
   "outputs": [],
   "source": [
    "n1 = int(len(words)*0.8)\n",
    "n2 = int(len(words)*0.9)\n",
    "train_db = words[:n1]\n",
    "dev_db = words[n1:n2]\n",
    "test_db = words[n2:]"
   ]
  },
  {
   "cell_type": "code",
   "execution_count": 4,
   "id": "adc621a1-b179-4ea9-abd6-4b6636ce52f7",
   "metadata": {
    "tags": []
   },
   "outputs": [
    {
     "name": "stdout",
     "output_type": "stream",
     "text": [
      "{0: '.', 1: 'a', 2: 'b', 3: 'c', 4: 'd', 5: 'e', 6: 'f', 7: 'g', 8: 'h', 9: 'i', 10: 'j', 11: 'k', 12: 'l', 13: 'm', 14: 'n', 15: 'o', 16: 'p', 17: 'q', 18: 'r', 19: 's', 20: 't', 21: 'u', 22: 'v', 23: 'w', 24: 'x', 25: 'y', 26: 'z'}\n"
     ]
    }
   ],
   "source": [
    "V = ['.'] + sorted(list(set(''.join(words))))\n",
    "stoi = {s:i for i, s in enumerate(V)}\n",
    "itos = {i:s for s, i in stoi.items()}\n",
    "print(itos)"
   ]
  },
  {
   "cell_type": "code",
   "execution_count": 5,
   "id": "49b0d1f4-2d77-4645-996a-f2827db63c9e",
   "metadata": {
    "tags": []
   },
   "outputs": [],
   "source": [
    "# Smoothed n-gram model\n",
    "p_0 = 1/len(V) # uniform freq\n",
    "\n",
    "# unigram\n",
    "word_freq = [0]*27\n",
    "n_letters = 0\n",
    "for word in train_db:\n",
    "    for ch in word + '.':\n",
    "        ix = stoi[ch]\n",
    "        word_freq[ix] += 1\n",
    "        n_letters += 1\n",
    "p_1 = torch.tensor([i/n_letters for i in word_freq])"
   ]
  },
  {
   "cell_type": "code",
   "execution_count": 6,
   "id": "8184ec55-59ad-4508-8d86-3b6a6aa7a7ea",
   "metadata": {
    "tags": []
   },
   "outputs": [],
   "source": [
    "# bigram\n",
    "M_2 = torch.zeros((27, 27))\n",
    "for word in train_db:\n",
    "    chs = ['.'] + list(word) + ['.']\n",
    "    for ch1, ch2 in zip(chs, chs[1:]):\n",
    "        ix1 = stoi[ch1]\n",
    "        ix2 = stoi[ch2]\n",
    "        M_2[ix1, ix2] += 1"
   ]
  },
  {
   "cell_type": "code",
   "execution_count": 7,
   "id": "c5134ca9-e8f3-4497-8ed7-93240c527480",
   "metadata": {
    "tags": []
   },
   "outputs": [],
   "source": [
    "M_2 = (M_2+1)\n",
    "p_2 = (M_2 / M_2.sum(1, keepdims=True)).float()"
   ]
  },
  {
   "cell_type": "code",
   "execution_count": 8,
   "id": "c562ce02-4110-49da-870b-95180fcc1f94",
   "metadata": {
    "tags": []
   },
   "outputs": [],
   "source": [
    "# trigram\n",
    "M_3 = torch.zeros((27, 27, 27), dtype=torch.int32)\n",
    "for word in train_db:\n",
    "    chs = ['.'] + ['.'] + list(word) + ['.']\n",
    "    for ch1, ch2, ch3 in zip(chs, chs[1:], chs[2:]):\n",
    "        ix1 = stoi[ch1]\n",
    "        ix2 = stoi[ch2]\n",
    "        ix3 = stoi[ch3]\n",
    "        M_3[ix1, ix2, ix3] += 1"
   ]
  },
  {
   "cell_type": "code",
   "execution_count": 9,
   "id": "5fbdd5c2-a55d-481f-b55a-d5092888b91a",
   "metadata": {
    "tags": []
   },
   "outputs": [],
   "source": [
    "M_3 = (M_3+1)\n",
    "p_3 = (M_3 / M_3.sum(2, keepdims=True)).float()"
   ]
  },
  {
   "cell_type": "code",
   "execution_count": 10,
   "id": "b0f3497d-ac7b-45c2-84e7-f3026909c966",
   "metadata": {},
   "outputs": [],
   "source": [
    "pm = []\n",
    "for word in dev_db:\n",
    "    chs = ['.'] + ['.'] + list(word) + ['.']\n",
    "    for ch1, ch2, ch3 in zip(chs, chs[1:], chs[2:]):\n",
    "        ix1 = stoi[ch1]\n",
    "        ix2 = stoi[ch2]\n",
    "        ix3 = stoi[ch3]\n",
    "        pm.append([p_0, p_1[ix3].item(), p_2[ix2, ix1].item(), p_3[ix1, ix2, ix3].item()]) "
   ]
  },
  {
   "cell_type": "code",
   "execution_count": 11,
   "id": "c04d5b53",
   "metadata": {},
   "outputs": [],
   "source": [
    "prob_matrix = torch.tensor(pm)"
   ]
  },
  {
   "cell_type": "code",
   "execution_count": 12,
   "id": "e8699ca0",
   "metadata": {},
   "outputs": [],
   "source": [
    "# EM algorithm\n",
    "weights = torch.ones(4) / 4\n",
    "for i in range(5):\n",
    "    # E-step\n",
    "    weighted_probs = prob_matrix * weights\n",
    "    total_probs = weighted_probs.sum(1, keepdims=True)\n",
    "    z = weighted_probs / total_probs\n",
    "    \n",
    "    # M-step\n",
    "    weights = z.mean(0)"
   ]
  },
  {
   "cell_type": "code",
   "execution_count": 13,
   "id": "21e88b3e",
   "metadata": {
    "scrolled": true
   },
   "outputs": [
    {
     "data": {
      "text/plain": [
       "tensor([0.0146, 0.0762, 0.0933, 0.8158])"
      ]
     },
     "execution_count": 13,
     "metadata": {},
     "output_type": "execute_result"
    }
   ],
   "source": [
    "weights"
   ]
  },
  {
   "cell_type": "code",
   "execution_count": 14,
   "id": "036b55ab",
   "metadata": {},
   "outputs": [],
   "source": [
    "# Hyperparameters\n",
    "block_size = 2\n",
    "embedding_size = 20\n",
    "hidden_layer_size = 200\n",
    "epochs = 100000\n",
    "minibatch_size = 64\n",
    "learning_rate = 0.1\n",
    "lr_decay_factor = 10"
   ]
  },
  {
   "cell_type": "code",
   "execution_count": 15,
   "id": "af8a7b84",
   "metadata": {},
   "outputs": [],
   "source": [
    "def create_db(words):\n",
    "    X, y = [], []\n",
    "    for w in words:\n",
    "        context = [0] * block_size\n",
    "        for ch in w + '.':\n",
    "            ix = stoi[ch]\n",
    "            X.append(context)\n",
    "            y.append(ix)\n",
    "            context = context[1:] + [ix]\n",
    "    X = torch.tensor(X)\n",
    "    y = torch.tensor(y)\n",
    "    return X, y\n",
    "X_train, y_train = create_db(train_db)\n",
    "X_dev, y_dev = create_db(dev_db)\n",
    "X_test, y_test = create_db(test_db)"
   ]
  },
  {
   "cell_type": "code",
   "execution_count": 16,
   "id": "6706cb9a",
   "metadata": {},
   "outputs": [],
   "source": [
    "def get_ngram_probs(X):\n",
    "    P = []\n",
    "    for ex in X:\n",
    "        p = weights[0]*p_0 + weights[1]*p_1[torch.arange(27)] + weights[2]*p_2[ex[1], :] + weights[3]*p_3[ex[0], ex[1], :]\n",
    "        P.append(p)\n",
    "    probs = torch.stack(P, dim=0)\n",
    "    return probs"
   ]
  },
  {
   "cell_type": "code",
   "execution_count": 17,
   "id": "8e4d9f32",
   "metadata": {},
   "outputs": [],
   "source": [
    "# Create MLP"
   ]
  },
  {
   "cell_type": "code",
   "execution_count": 18,
   "id": "8f7be1b3",
   "metadata": {},
   "outputs": [],
   "source": [
    "# Initialize weights\n",
    "g = torch.Generator().manual_seed(2147483647)\n",
    "E = torch.randn((27, embedding_size), generator=g)\n",
    "W1 = torch.randn((block_size * embedding_size, hidden_layer_size), generator=g)\n",
    "b1 = torch.randn(hidden_layer_size, generator=g)\n",
    "W2 = torch.randn((hidden_layer_size, 27), generator=g)\n",
    "b2 = torch.randn(27, generator=g)\n",
    "lmbda = 0.001\n",
    "parameters = [E, W1, b1, W2, b2]"
   ]
  },
  {
   "cell_type": "code",
   "execution_count": 19,
   "id": "a788a371",
   "metadata": {},
   "outputs": [],
   "source": [
    "# Require grad\n",
    "for p in parameters:\n",
    "    p.requires_grad = True"
   ]
  },
  {
   "cell_type": "code",
   "execution_count": 20,
   "id": "713edca0",
   "metadata": {},
   "outputs": [],
   "source": [
    "# Gradient descent\n",
    "def train_model(parameters, epochs=epochs, minibatch_size=minibatch_size, block_size=block_size, embedding_size=embedding_size,\n",
    "                learning_rate=learning_rate, lr_decay_factor=lr_decay_factor):\n",
    "    lossi = []\n",
    "    stepi = []\n",
    "    for i in range(epochs):\n",
    "        # construct minibatch\n",
    "        ix = torch.randint(0, X_train.shape[0], (minibatch_size,))\n",
    "\n",
    "        # forward pass\n",
    "        emb = E[X_train[ix]]\n",
    "        h = torch.tanh(emb.view(-1, block_size * embedding_size) @ W1 + b1)\n",
    "        logits = h @ W2 + b2\n",
    "        loss = F.cross_entropy(logits, y_train[ix])\n",
    "\n",
    "        # backward pass\n",
    "        for p in parameters:\n",
    "            p.grad = None\n",
    "        loss.backward()\n",
    "\n",
    "        # update\n",
    "        for p in parameters:\n",
    "            lr = learning_rate\n",
    "            if i > int(0.9*epochs):\n",
    "                lr /= lr_decay_factor\n",
    "            if i > int(0.95*epochs):\n",
    "                lr /= lr_decay_factor\n",
    "            p.data += -learning_rate * p.grad\n",
    "        stepi.append(i)\n",
    "        lossi.append(loss.log10().item())\n",
    "        if i%10000 == 0:\n",
    "            print(f'Epoch: {i}')\n",
    "    plt.plot(stepi, lossi)\n",
    "    return parameters"
   ]
  },
  {
   "cell_type": "code",
   "execution_count": 21,
   "id": "5a5128f3",
   "metadata": {
    "scrolled": true
   },
   "outputs": [
    {
     "name": "stdout",
     "output_type": "stream",
     "text": [
      "Epoch: 0\n",
      "Epoch: 10000\n",
      "Epoch: 20000\n",
      "Epoch: 30000\n",
      "Epoch: 40000\n",
      "Epoch: 50000\n",
      "Epoch: 60000\n",
      "Epoch: 70000\n",
      "Epoch: 80000\n",
      "Epoch: 90000\n"
     ]
    },
    {
     "data": {
      "image/png": "[encoded data removed]",
      "text/plain": [
       "<Figure size 640x480 with 1 Axes>"
      ]
     },
     "metadata": {},
     "output_type": "display_data"
    }
   ],
   "source": [
    "m = train_model(parameters)"
   ]
  },
  {
   "cell_type": "code",
   "execution_count": 22,
   "id": "a3b4c95c",
   "metadata": {},
   "outputs": [
    {
     "name": "stdout",
     "output_type": "stream",
     "text": [
      "2.3132383823394775\n"
     ]
    }
   ],
   "source": [
    "emb = E[X_dev]\n",
    "h = torch.tanh(emb.view(-1, block_size * embedding_size) @ W1 + b1)\n",
    "logits = h @ W2 + b2\n",
    "loss = F.cross_entropy(logits, y_dev)\n",
    "print(loss.item())"
   ]
  },
  {
   "cell_type": "code",
   "execution_count": 23,
   "id": "807079c2",
   "metadata": {},
   "outputs": [],
   "source": [
    "ngram_logits = torch.log(get_ngram_probs(X_test))"
   ]
  },
  {
   "cell_type": "code",
   "execution_count": 24,
   "id": "a395bf4a",
   "metadata": {},
   "outputs": [
    {
     "name": "stdout",
     "output_type": "stream",
     "text": [
      "2.2461097240448\n"
     ]
    }
   ],
   "source": [
    "emb = E[X_test]\n",
    "h = torch.tanh(emb.view(-1, block_size * embedding_size) @ W1 + b1)\n",
    "logits = h @ W2 + b2\n",
    "loss = F.cross_entropy((logits + ngram_logits)/2, y_test)\n",
    "print(loss.item())"
   ]
  },
  {
   "cell_type": "code",
   "execution_count": 25,
   "id": "96d4c516",
   "metadata": {},
   "outputs": [
    {
     "name": "stdout",
     "output_type": "stream",
     "text": [
      "jorbxce.\n",
      "dra.\n",
      "pernerton.\n",
      "rspailkine.\n",
      "sa.\n"
     ]
    }
   ],
   "source": [
    "for _ in range(5):\n",
    "    out = []\n",
    "    context = [0] * block_size\n",
    "    while True:\n",
    "        emb = E[torch.tensor([context])]\n",
    "        h = torch.tanh(emb.view(1, -1) @ W1 + b1)\n",
    "        logits = h @ W2 + b2\n",
    "        probs = F.softmax(logits, dim=1)\n",
    "        ngram_probs = get_ngram_probs(torch.tensor([context]))\n",
    "        ix = torch.multinomial((probs + ngram_probs)/2, num_samples=1, generator=g).item()\n",
    "        context = context[1:] + [ix]\n",
    "        out.append(ix)\n",
    "        if ix == 0:\n",
    "            break\n",
    "    print(\"\".join(itos[i] for i in out))"
   ]
  },
  {
   "cell_type": "code",
   "execution_count": null,
   "id": "c987fef6",
   "metadata": {},
   "outputs": [],
   "source": []
  }
 ],
 "metadata": {
  "kernelspec": {
   "display_name": "Python 3 (ipykernel)",
   "language": "python",
   "name": "python3"
  },
  "language_info": {
   "codemirror_mode": {
    "name": "ipython",
    "version": 3
   },
   "file_extension": ".py",
   "mimetype": "text/x-python",
   "name": "python",
   "nbconvert_exporter": "python",
   "pygments_lexer": "ipython3",
   "version": "3.11.7"
  }
 },
 "nbformat": 4,
 "nbformat_minor": 5
}

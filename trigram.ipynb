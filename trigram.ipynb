{
 "cells": [
  {
   "cell_type": "code",
   "execution_count": 1,
   "id": "ef3be363",
   "metadata": {},
   "outputs": [],
   "source": [
    "import math\n",
    "import torch\n",
    "import torch.nn.functional as F"
   ]
  },
  {
   "cell_type": "code",
   "execution_count": 2,
   "id": "cc5ff616",
   "metadata": {},
   "outputs": [
    {
     "data": {
      "text/plain": [
       "['emma',\n",
       " 'olivia',\n",
       " 'ava',\n",
       " 'isabella',\n",
       " 'sophia',\n",
       " 'charlotte',\n",
       " 'mia',\n",
       " 'amelia',\n",
       " 'harper',\n",
       " 'evelyn']"
      ]
     },
     "execution_count": 2,
     "metadata": {},
     "output_type": "execute_result"
    }
   ],
   "source": [
    "# Dataset\n",
    "words = open('names.txt', 'r').read().splitlines()\n",
    "words[:10]"
   ]
  },
  {
   "cell_type": "code",
   "execution_count": 3,
   "id": "0c126272",
   "metadata": {},
   "outputs": [
    {
     "data": {
      "text/plain": [
       "[('a', 4410),\n",
       " ('k', 2963),\n",
       " ('m', 2538),\n",
       " ('j', 2422),\n",
       " ('s', 2055),\n",
       " ('d', 1690),\n",
       " ('r', 1639),\n",
       " ('l', 1572),\n",
       " ('c', 1542),\n",
       " ('e', 1531),\n",
       " ('t', 1308),\n",
       " ('b', 1306),\n",
       " ('n', 1146),\n",
       " ('z', 929),\n",
       " ('h', 874),\n",
       " ('g', 669),\n",
       " ('i', 591),\n",
       " ('y', 535),\n",
       " ('p', 515),\n",
       " ('f', 417),\n",
       " ('o', 394),\n",
       " ('v', 376),\n",
       " ('w', 307),\n",
       " ('x', 134),\n",
       " ('q', 92),\n",
       " ('u', 78)]"
      ]
     },
     "execution_count": 3,
     "metadata": {},
     "output_type": "execute_result"
    }
   ],
   "source": [
    "############################################################################## Counting approach ##############################################################################\n",
    "first_char = {}\n",
    "trigrams = {}\n",
    "for word in words:\n",
    "    chs = ['.'] + list(word) + ['.']\n",
    "    first_char[word[0]] = first_char.get(word[0], 0) + 1\n",
    "    for ch1, ch2, ch3 in zip(chs, chs[1:], chs[2:]):\n",
    "        trigram = (ch1, ch2, ch3)\n",
    "        trigrams[trigram] = trigrams.get(trigram, 0) + 1\n",
    "sorted(first_char.items(), key = lambda kv: -kv[1])"
   ]
  },
  {
   "cell_type": "code",
   "execution_count": 4,
   "id": "06b84111",
   "metadata": {},
   "outputs": [
    {
     "data": {
      "text/plain": [
       "[(('a', 'h', '.'), 1714),\n",
       " (('n', 'a', '.'), 1673),\n",
       " (('a', 'n', '.'), 1509),\n",
       " (('o', 'n', '.'), 1503),\n",
       " (('.', 'm', 'a'), 1453),\n",
       " (('.', 'j', 'a'), 1255),\n",
       " (('.', 'k', 'a'), 1254),\n",
       " (('e', 'n', '.'), 1217),\n",
       " (('l', 'y', 'n'), 976),\n",
       " (('y', 'n', '.'), 953)]"
      ]
     },
     "execution_count": 4,
     "metadata": {},
     "output_type": "execute_result"
    }
   ],
   "source": [
    "sorted(trigrams.items(), key = lambda kv: -kv[1])[:10]"
   ]
  },
  {
   "cell_type": "code",
   "execution_count": 5,
   "id": "ceae02bd",
   "metadata": {},
   "outputs": [],
   "source": [
    "N = torch.zeros((27, 26, 27), dtype=torch.int32) # Trigram count matrix\n",
    "M = torch.zeros((27,), dtype=torch.int32) # First character count matrix"
   ]
  },
  {
   "cell_type": "code",
   "execution_count": 6,
   "id": "ae7c758a",
   "metadata": {},
   "outputs": [
    {
     "data": {
      "text/plain": [
       "{'a': 1,\n",
       " 'b': 2,\n",
       " 'c': 3,\n",
       " 'd': 4,\n",
       " 'e': 5,\n",
       " 'f': 6,\n",
       " 'g': 7,\n",
       " 'h': 8,\n",
       " 'i': 9,\n",
       " 'j': 10,\n",
       " 'k': 11,\n",
       " 'l': 12,\n",
       " 'm': 13,\n",
       " 'n': 14,\n",
       " 'o': 15,\n",
       " 'p': 16,\n",
       " 'q': 17,\n",
       " 'r': 18,\n",
       " 's': 19,\n",
       " 't': 20,\n",
       " 'u': 21,\n",
       " 'v': 22,\n",
       " 'w': 23,\n",
       " 'x': 24,\n",
       " 'y': 25,\n",
       " 'z': 26,\n",
       " '.': 0}"
      ]
     },
     "execution_count": 6,
     "metadata": {},
     "output_type": "execute_result"
    }
   ],
   "source": [
    "chars = sorted(list(set(''.join(words))))\n",
    "stoi = {s:i+1 for i, s in enumerate(chars)} # Characters to indexes\n",
    "stoi['.'] = 0\n",
    "itos = {i:s for s,i in stoi.items()} # Indexes to characters\n",
    "stoi"
   ]
  },
  {
   "cell_type": "code",
   "execution_count": 7,
   "id": "8bc0b801",
   "metadata": {},
   "outputs": [],
   "source": [
    "# Filling in N and M matrices\n",
    "for w in words:\n",
    "    chs = ['.'] + list(w) + ['.']\n",
    "    ix = stoi[w[0]]\n",
    "    M[ix] += 1\n",
    "    for ch1, ch2, ch3 in zip(chs, chs[1:], chs[2:]):\n",
    "        ix1 = stoi[ch1]\n",
    "        ix2 = stoi[ch2]\n",
    "        ix3 = stoi[ch3]\n",
    "        N[ix1, ix2-1, ix3] += 1"
   ]
  },
  {
   "cell_type": "code",
   "execution_count": 8,
   "id": "fab97bac",
   "metadata": {},
   "outputs": [
    {
     "data": {
      "text/plain": [
       "tensor([   0, 4410, 1306, 1542, 1690, 1531,  417,  669,  874,  591, 2422, 2963,\n",
       "        1572, 2538, 1146,  394,  515,   92, 1639, 2055, 1308,   78,  376,  307,\n",
       "         134,  535,  929], dtype=torch.int32)"
      ]
     },
     "execution_count": 8,
     "metadata": {},
     "output_type": "execute_result"
    }
   ],
   "source": [
    "M"
   ]
  },
  {
   "cell_type": "code",
   "execution_count": 9,
   "id": "23c181de",
   "metadata": {},
   "outputs": [],
   "source": [
    "MP = M.float()\n",
    "MP = MP / MP.sum() # First character probability distribution"
   ]
  },
  {
   "cell_type": "code",
   "execution_count": 10,
   "id": "f8c3b139",
   "metadata": {},
   "outputs": [],
   "source": [
    "NP = (N+1).float()\n",
    "NP = NP / NP.sum(2, keepdims=True) # Trigram probability distribution"
   ]
  },
  {
   "cell_type": "code",
   "execution_count": 11,
   "id": "dde3e738",
   "metadata": {},
   "outputs": [
    {
     "name": "stdout",
     "output_type": "stream",
     "text": [
      "junide.\n",
      "jakasid.\n",
      "prelay.\n",
      "adin.\n",
      "kairritoper.\n"
     ]
    }
   ],
   "source": [
    "# Sample from MP and NP probability distributions\n",
    "g = torch.Generator().manual_seed(2147483647)\n",
    "for i in range(5):\n",
    "    out = []\n",
    "    ix1 = 0\n",
    "    ix2 = torch.multinomial(MP, num_samples=1, replacement=True, generator=g).item() # Sample first character from MP\n",
    "    out.append(itos[ix2])\n",
    "    while True:\n",
    "        p = NP[ix1][ix2-1]\n",
    "        ix1 = ix2\n",
    "        ix2 = torch.multinomial(p, num_samples=1, replacement=True, generator=g).item() # Sample next character from NP\n",
    "        out.append(itos[ix2])\n",
    "        if ix2 == 0:\n",
    "            break\n",
    "    print(''.join(out))"
   ]
  },
  {
   "cell_type": "code",
   "execution_count": 12,
   "id": "11187e54",
   "metadata": {},
   "outputs": [
    {
     "name": "stdout",
     "output_type": "stream",
     "text": [
      "log_likelihood=tensor(-504657.3750)\n",
      "nll=tensor(504657.3750)\n",
      "2.2119929790496826\n"
     ]
    }
   ],
   "source": [
    "# Negative log likelihood loss\n",
    "log_likelihood = 0.0\n",
    "n = 0\n",
    "\n",
    "for w in words:\n",
    "    chs = ['.'] + list(w) + ['.']\n",
    "    ix = stoi[w[0]]\n",
    "    log_likelihood += torch.log(MP[ix]) # add log prob of first character\n",
    "    n += 1\n",
    "    for ch1, ch2, ch3 in zip(chs, chs[1:], chs[2:]):\n",
    "        ix1 = stoi[ch1]\n",
    "        ix2 = stoi[ch2]\n",
    "        ix3 = stoi[ch3]\n",
    "        prob = NP[ix1, ix2-1, ix3]\n",
    "        logprob = torch.log(prob)\n",
    "        log_likelihood += logprob # add log prob of next character\n",
    "        n += 1\n",
    "print(f'{log_likelihood=}')\n",
    "nll = -log_likelihood\n",
    "print(f'{nll=}')\n",
    "print(f'{nll/n}')"
   ]
  },
  {
   "cell_type": "code",
   "execution_count": 13,
   "id": "45674a9c",
   "metadata": {},
   "outputs": [],
   "source": [
    "# Neural Net approach #############################################################################\n",
    "# Create training set of trigrams ((x, y), z)\n",
    "X, y = [], []\n",
    "\n",
    "for w in words:\n",
    "    chs = ['.'] + list(w) + ['.']\n",
    "    for ch1, ch2, ch3 in zip(chs, chs[1:], chs[2:]):\n",
    "        ix1 = stoi[ch1]\n",
    "        ix2 = stoi[ch2]\n",
    "        ix3 = stoi[ch3]\n",
    "        X.append(ix1 + 27 * ix2) # 729 possibilities\n",
    "        y.append(ix3)\n",
    "X = torch.tensor(X)\n",
    "y = torch.tensor(y)\n",
    "num = X.nelement()"
   ]
  },
  {
   "cell_type": "code",
   "execution_count": 14,
   "id": "ac7ba3e5",
   "metadata": {},
   "outputs": [
    {
     "data": {
      "text/plain": [
       "torch.Size([196113, 729])"
      ]
     },
     "execution_count": 14,
     "metadata": {},
     "output_type": "execute_result"
    }
   ],
   "source": [
    "Xenc = F.one_hot(X, num_classes = 729).float()\n",
    "Xenc.shape"
   ]
  },
  {
   "cell_type": "code",
   "execution_count": 15,
   "id": "319b4468",
   "metadata": {},
   "outputs": [],
   "source": [
    "W = torch.randn((729, 27), generator = g, requires_grad = True)"
   ]
  },
  {
   "cell_type": "code",
   "execution_count": 23,
   "id": "7e3f75e5",
   "metadata": {},
   "outputs": [
    {
     "name": "stdout",
     "output_type": "stream",
     "text": [
      "Iteration: 0, loss: 2.3061764240264893\n",
      "Iteration: 1, loss: 2.3038339614868164\n",
      "Iteration: 2, loss: 2.301539897918701\n",
      "Iteration: 3, loss: 2.2992923259735107\n",
      "Iteration: 4, loss: 2.2970898151397705\n",
      "Iteration: 5, loss: 2.294931411743164\n",
      "Iteration: 6, loss: 2.2928149700164795\n",
      "Iteration: 7, loss: 2.2907397747039795\n",
      "Iteration: 8, loss: 2.2887046337127686\n",
      "Iteration: 9, loss: 2.286707878112793\n",
      "Iteration: 10, loss: 2.2847487926483154\n",
      "Iteration: 11, loss: 2.2828264236450195\n",
      "Iteration: 12, loss: 2.2809388637542725\n",
      "Iteration: 13, loss: 2.2790863513946533\n",
      "Iteration: 14, loss: 2.2772672176361084\n",
      "Iteration: 15, loss: 2.275480031967163\n",
      "Iteration: 16, loss: 2.2737247943878174\n",
      "Iteration: 17, loss: 2.272000312805176\n",
      "Iteration: 18, loss: 2.270305633544922\n",
      "Iteration: 19, loss: 2.2686400413513184\n",
      "Iteration: 20, loss: 2.267002582550049\n",
      "Iteration: 21, loss: 2.265393018722534\n",
      "Iteration: 22, loss: 2.2638099193573\n",
      "Iteration: 23, loss: 2.2622528076171875\n",
      "Iteration: 24, loss: 2.260721445083618\n",
      "Iteration: 25, loss: 2.2592148780822754\n",
      "Iteration: 26, loss: 2.257732391357422\n",
      "Iteration: 27, loss: 2.2562732696533203\n",
      "Iteration: 28, loss: 2.2548375129699707\n",
      "Iteration: 29, loss: 2.2534239292144775\n",
      "Iteration: 30, loss: 2.2520322799682617\n",
      "Iteration: 31, loss: 2.250661849975586\n",
      "Iteration: 32, loss: 2.249312162399292\n",
      "Iteration: 33, loss: 2.24798321723938\n",
      "Iteration: 34, loss: 2.246674060821533\n",
      "Iteration: 35, loss: 2.2453842163085938\n",
      "Iteration: 36, loss: 2.244112968444824\n",
      "Iteration: 37, loss: 2.2428605556488037\n",
      "Iteration: 38, loss: 2.241626262664795\n",
      "Iteration: 39, loss: 2.2404098510742188\n",
      "Iteration: 40, loss: 2.239210367202759\n",
      "Iteration: 41, loss: 2.238027572631836\n",
      "Iteration: 42, loss: 2.2368619441986084\n",
      "Iteration: 43, loss: 2.2357120513916016\n",
      "Iteration: 44, loss: 2.2345781326293945\n",
      "Iteration: 45, loss: 2.233459949493408\n",
      "Iteration: 46, loss: 2.232356548309326\n",
      "Iteration: 47, loss: 2.2312684059143066\n",
      "Iteration: 48, loss: 2.230194568634033\n",
      "Iteration: 49, loss: 2.2291347980499268\n"
     ]
    }
   ],
   "source": [
    "# Gradient descent\n",
    "for k in range(50):\n",
    "    # Forward pass\n",
    "    logits = Xenc @ W\n",
    "    counts = logits.exp()\n",
    "    probs = counts / counts.sum(1, keepdims = True)\n",
    "    loss = -probs[torch.arange(num), y].log().mean()\n",
    "    \n",
    "    # Backward pass\n",
    "    W.grad = None\n",
    "    loss.backward()\n",
    "    \n",
    "    # Update\n",
    "    W.data += -100 * W.grad\n",
    "    print(f'Iteration: {k}, loss: {loss}')"
   ]
  },
  {
   "cell_type": "code",
   "execution_count": null,
   "id": "77026131",
   "metadata": {},
   "outputs": [],
   "source": []
  }
 ],
 "metadata": {
  "kernelspec": {
   "display_name": "Python 3 (ipykernel)",
   "language": "python",
   "name": "python3"
  },
  "language_info": {
   "codemirror_mode": {
    "name": "ipython",
    "version": 3
   },
   "file_extension": ".py",
   "mimetype": "text/x-python",
   "name": "python",
   "nbconvert_exporter": "python",
   "pygments_lexer": "ipython3",
   "version": "3.11.7"
  }
 },
 "nbformat": 4,
 "nbformat_minor": 5
}

{
 "cells": [
  {
   "cell_type": "code",
   "execution_count": 1,
   "id": "ef3be363",
   "metadata": {},
   "outputs": [],
   "source": [
    "import math\n",
    "import torch\n",
    "import torch.nn.functional as F"
   ]
  },
  {
   "cell_type": "code",
   "execution_count": 2,
   "id": "cc5ff616",
   "metadata": {},
   "outputs": [
    {
     "data": {
      "text/plain": [
       "['emma',\n",
       " 'olivia',\n",
       " 'ava',\n",
       " 'isabella',\n",
       " 'sophia',\n",
       " 'charlotte',\n",
       " 'mia',\n",
       " 'amelia',\n",
       " 'harper',\n",
       " 'evelyn']"
      ]
     },
     "execution_count": 2,
     "metadata": {},
     "output_type": "execute_result"
    }
   ],
   "source": [
    "# Dataset\n",
    "words = open('names.txt', 'r').read().splitlines()\n",
    "words[:10]"
   ]
  },
  {
   "cell_type": "code",
   "execution_count": 3,
   "id": "0c126272",
   "metadata": {},
   "outputs": [
    {
     "data": {
      "text/plain": [
       "[('a', 4410),\n",
       " ('k', 2963),\n",
       " ('m', 2538),\n",
       " ('j', 2422),\n",
       " ('s', 2055),\n",
       " ('d', 1690),\n",
       " ('r', 1639),\n",
       " ('l', 1572),\n",
       " ('c', 1542),\n",
       " ('e', 1531),\n",
       " ('t', 1308),\n",
       " ('b', 1306),\n",
       " ('n', 1146),\n",
       " ('z', 929),\n",
       " ('h', 874),\n",
       " ('g', 669),\n",
       " ('i', 591),\n",
       " ('y', 535),\n",
       " ('p', 515),\n",
       " ('f', 417),\n",
       " ('o', 394),\n",
       " ('v', 376),\n",
       " ('w', 307),\n",
       " ('x', 134),\n",
       " ('q', 92),\n",
       " ('u', 78)]"
      ]
     },
     "execution_count": 3,
     "metadata": {},
     "output_type": "execute_result"
    }
   ],
   "source": [
    "############################################################################## Counting approach ##############################################################################\n",
    "first_char = {}\n",
    "trigrams = {}\n",
    "for word in words:\n",
    "    chs = ['.'] + list(word) + ['.']\n",
    "    first_char[word[0]] = first_char.get(word[0], 0) + 1\n",
    "    for ch1, ch2, ch3 in zip(chs, chs[1:], chs[2:]):\n",
    "        trigram = (ch1, ch2, ch3)\n",
    "        trigrams[trigram] = trigrams.get(trigram, 0) + 1\n",
    "sorted(first_char.items(), key = lambda kv: -kv[1])"
   ]
  },
  {
   "cell_type": "code",
   "execution_count": 4,
   "id": "06b84111",
   "metadata": {},
   "outputs": [
    {
     "data": {
      "text/plain": [
       "[(('a', 'h', '.'), 1714),\n",
       " (('n', 'a', '.'), 1673),\n",
       " (('a', 'n', '.'), 1509),\n",
       " (('o', 'n', '.'), 1503),\n",
       " (('.', 'm', 'a'), 1453),\n",
       " (('.', 'j', 'a'), 1255),\n",
       " (('.', 'k', 'a'), 1254),\n",
       " (('e', 'n', '.'), 1217),\n",
       " (('l', 'y', 'n'), 976),\n",
       " (('y', 'n', '.'), 953)]"
      ]
     },
     "execution_count": 4,
     "metadata": {},
     "output_type": "execute_result"
    }
   ],
   "source": [
    "sorted(trigrams.items(), key = lambda kv: -kv[1])[:10]"
   ]
  },
  {
   "cell_type": "code",
   "execution_count": 5,
   "id": "ceae02bd",
   "metadata": {},
   "outputs": [],
   "source": [
    "N = torch.zeros((27, 27, 27), dtype=torch.int32) # Trigram count matrix"
   ]
  },
  {
   "cell_type": "code",
   "execution_count": 6,
   "id": "ae7c758a",
   "metadata": {},
   "outputs": [
    {
     "data": {
      "text/plain": [
       "{'a': 1,\n",
       " 'b': 2,\n",
       " 'c': 3,\n",
       " 'd': 4,\n",
       " 'e': 5,\n",
       " 'f': 6,\n",
       " 'g': 7,\n",
       " 'h': 8,\n",
       " 'i': 9,\n",
       " 'j': 10,\n",
       " 'k': 11,\n",
       " 'l': 12,\n",
       " 'm': 13,\n",
       " 'n': 14,\n",
       " 'o': 15,\n",
       " 'p': 16,\n",
       " 'q': 17,\n",
       " 'r': 18,\n",
       " 's': 19,\n",
       " 't': 20,\n",
       " 'u': 21,\n",
       " 'v': 22,\n",
       " 'w': 23,\n",
       " 'x': 24,\n",
       " 'y': 25,\n",
       " 'z': 26,\n",
       " '.': 0}"
      ]
     },
     "execution_count": 6,
     "metadata": {},
     "output_type": "execute_result"
    }
   ],
   "source": [
    "chars = sorted(list(set(''.join(words))))\n",
    "stoi = {s:i+1 for i, s in enumerate(chars)} # Characters to indexes\n",
    "stoi['.'] = 0\n",
    "itos = {i:s for s,i in stoi.items()} # Indexes to characters\n",
    "stoi"
   ]
  },
  {
   "cell_type": "code",
   "execution_count": 7,
   "id": "8bc0b801",
   "metadata": {},
   "outputs": [],
   "source": [
    "# Filling in N and M matrices\n",
    "for w in words:\n",
    "    chs = ['.'] + ['.'] + list(w) + ['.']\n",
    "    for ch1, ch2, ch3 in zip(chs, chs[1:], chs[2:]):\n",
    "        ix1 = stoi[ch1]\n",
    "        ix2 = stoi[ch2]\n",
    "        ix3 = stoi[ch3]\n",
    "        N[ix1, ix2, ix3] += 1"
   ]
  },
  {
   "cell_type": "code",
   "execution_count": 8,
   "id": "f8c3b139",
   "metadata": {},
   "outputs": [],
   "source": [
    "NP = (N+1).float()\n",
    "NP = NP / NP.sum(2, keepdims=True) # Trigram probability distribution"
   ]
  },
  {
   "cell_type": "code",
   "execution_count": 9,
   "id": "dde3e738",
   "metadata": {},
   "outputs": [
    {
     "name": "stdout",
     "output_type": "stream",
     "text": [
      "junide.\n",
      "jakasid.\n",
      "prelay.\n",
      "adin.\n",
      "kairritoper.\n"
     ]
    }
   ],
   "source": [
    "# Sample from MP and NP probability distributions\n",
    "g = torch.Generator().manual_seed(2147483647)\n",
    "for i in range(5):\n",
    "    out = []\n",
    "    ix1 = 0\n",
    "    ix2 = 0 # Sample first character from MP\n",
    "    while True:\n",
    "        p = NP[ix1][ix2]\n",
    "        ix1 = ix2\n",
    "        ix2 = torch.multinomial(p, num_samples=1, replacement=True, generator=g).item() # Sample next character from NP\n",
    "        out.append(itos[ix2])\n",
    "        if ix2 == 0:\n",
    "            break\n",
    "    print(''.join(out))"
   ]
  },
  {
   "cell_type": "code",
   "execution_count": 10,
   "id": "11187e54",
   "metadata": {},
   "outputs": [
    {
     "name": "stdout",
     "output_type": "stream",
     "text": [
      "log_likelihood=tensor(-504653.)\n",
      "nll=tensor(504653.)\n",
      "2.2119739055633545\n"
     ]
    }
   ],
   "source": [
    "# Negative log likelihood loss\n",
    "log_likelihood = 0.0\n",
    "n = 0\n",
    "\n",
    "for w in words:\n",
    "    chs = ['.'] + ['.'] + list(w) + ['.']\n",
    "    for ch1, ch2, ch3 in zip(chs, chs[1:], chs[2:]):\n",
    "        ix1 = stoi[ch1]\n",
    "        ix2 = stoi[ch2]\n",
    "        ix3 = stoi[ch3]\n",
    "        prob = NP[ix1, ix2, ix3]\n",
    "        logprob = torch.log(prob)\n",
    "        log_likelihood += logprob # add log prob of next character\n",
    "        n += 1\n",
    "print(f'{log_likelihood=}')\n",
    "nll = -log_likelihood\n",
    "print(f'{nll=}')\n",
    "print(f'{nll/n}')"
   ]
  },
  {
   "cell_type": "code",
   "execution_count": 11,
   "id": "45674a9c",
   "metadata": {},
   "outputs": [],
   "source": [
    "############################################################################# Neural Net approach #############################################################################\n",
    "# Create training set of trigrams ((x, y), z)\n",
    "X, y = [], []\n",
    "\n",
    "for w in words:\n",
    "    chs = ['.'] + ['.'] + list(w) + ['.']\n",
    "    for ch1, ch2, ch3 in zip(chs, chs[1:], chs[2:]):\n",
    "        ix1 = stoi[ch1]\n",
    "        ix2 = stoi[ch2]\n",
    "        ix3 = stoi[ch3]\n",
    "        X.append(ix1 + 27 * ix2) # 729 possibilities\n",
    "        y.append(ix3)\n",
    "X = torch.tensor(X)\n",
    "y = torch.tensor(y)\n",
    "num = X.nelement()"
   ]
  },
  {
   "cell_type": "code",
   "execution_count": 12,
   "id": "ac7ba3e5",
   "metadata": {},
   "outputs": [
    {
     "data": {
      "text/plain": [
       "torch.Size([228146, 729])"
      ]
     },
     "execution_count": 12,
     "metadata": {},
     "output_type": "execute_result"
    }
   ],
   "source": [
    "Xenc = F.one_hot(X, num_classes = 729).float()\n",
    "Xenc.shape"
   ]
  },
  {
   "cell_type": "code",
   "execution_count": 13,
   "id": "319b4468",
   "metadata": {},
   "outputs": [],
   "source": [
    "W = torch.randn((729, 27), generator = g, requires_grad = True)"
   ]
  },
  {
   "cell_type": "code",
   "execution_count": 16,
   "id": "7e3f75e5",
   "metadata": {},
   "outputs": [
    {
     "name": "stdout",
     "output_type": "stream",
     "text": [
      "Epoch: 1, loss: 2.3535947799682617\n",
      "Epoch: 10, loss: 2.321342945098877\n",
      "Epoch: 20, loss: 2.3175909519195557\n",
      "Epoch: 30, loss: 2.304429292678833\n",
      "Epoch: 40, loss: 2.3028669357299805\n",
      "Epoch: 50, loss: 2.291486978530884\n",
      "Epoch: 60, loss: 2.2913997173309326\n",
      "Epoch: 70, loss: 2.281254291534424\n",
      "Epoch: 80, loss: 2.282212734222412\n",
      "Epoch: 90, loss: 2.2729592323303223\n",
      "Epoch: 100, loss: 2.274686813354492\n"
     ]
    }
   ],
   "source": [
    "# Gradient descent\n",
    "for epoch in range(100):\n",
    "    \n",
    "    # Forward pass\n",
    "    logits = Xenc @ W\n",
    "    \n",
    "    # Softmax\n",
    "    counts = logits.exp()\n",
    "    probs = counts / counts.sum(1, keepdims = True)\n",
    "    \n",
    "    # nll loss\n",
    "    loss = -probs[torch.arange(num), y].log().mean()\n",
    "    \n",
    "    # Backward pass\n",
    "    W.grad = None\n",
    "    loss.backward()\n",
    "    \n",
    "    # Update\n",
    "    W.data += -150 * W.grad\n",
    "    if (epoch == 0 or ((epoch+1)%10) == 0):\n",
    "        print(f'Epoch: {epoch+1}, loss: {loss}')"
   ]
  },
  {
   "cell_type": "code",
   "execution_count": 17,
   "id": "77026131",
   "metadata": {},
   "outputs": [
    {
     "name": "stdout",
     "output_type": "stream",
     "text": [
      "lijamerele.\n",
      "silahlson.\n",
      "ra.\n",
      "zala.\n",
      "casi.\n",
      "ra.\n",
      "mar.\n",
      "ra.\n",
      "zon.\n",
      "janna.\n"
     ]
    }
   ],
   "source": [
    "# Sample from neural net model\n",
    "for _ in range(10):\n",
    "    out = []\n",
    "    # Start with ..\n",
    "    ix1 = 0\n",
    "    ix2 = 0\n",
    "    while True:\n",
    "        xenc = F.one_hot(torch.tensor([ix1 + 27 * ix2]), num_classes=729).float()\n",
    "        logits = xenc @ W\n",
    "        counts = logits.exp()\n",
    "        p = counts / counts.sum(1, keepdims=True)\n",
    "        \n",
    "        ix1 = ix2\n",
    "        ix2 = torch.multinomial(p, num_samples=1, replacement=True, generator=g).item()\n",
    "        out.append(itos[ix2])\n",
    "        if ix2 == 0:\n",
    "            break\n",
    "    print(''.join(out))"
   ]
  },
  {
   "cell_type": "code",
   "execution_count": null,
   "id": "01ff5d4b",
   "metadata": {},
   "outputs": [],
   "source": []
  }
 ],
 "metadata": {
  "kernelspec": {
   "display_name": "Python 3 (ipykernel)",
   "language": "python",
   "name": "python3"
  },
  "language_info": {
   "codemirror_mode": {
    "name": "ipython",
    "version": 3
   },
   "file_extension": ".py",
   "mimetype": "text/x-python",
   "name": "python",
   "nbconvert_exporter": "python",
   "pygments_lexer": "ipython3",
   "version": "3.11.7"
  }
 },
 "nbformat": 4,
 "nbformat_minor": 5
}

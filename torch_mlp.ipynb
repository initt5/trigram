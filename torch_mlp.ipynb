{
 "cells": [
  {
   "cell_type": "code",
   "execution_count": 1,
   "id": "775edd57-b2dc-45df-a871-5edb34a88f90",
   "metadata": {},
   "outputs": [],
   "source": [
    "import torch\n",
    "import torch.nn.functional as F\n",
    "import torch.nn as nn\n",
    "import torch.optim as optim\n",
    "import random\n",
    "import matplotlib.pyplot as plt\n",
    "%matplotlib inline"
   ]
  },
  {
   "cell_type": "code",
   "execution_count": 2,
   "id": "3a356ec5-b533-457d-9007-02723c2a7d0d",
   "metadata": {
    "tags": []
   },
   "outputs": [],
   "source": [
    "# parse names file and randomly shuffle it\n",
    "words = open(\"names.txt\", \"r\").read().splitlines()\n",
    "random.seed(42)\n",
    "random.shuffle(words)"
   ]
  },
  {
   "cell_type": "code",
   "execution_count": 3,
   "id": "d1d51c77-0735-4053-b44b-3f2997c2fd8b",
   "metadata": {
    "tags": []
   },
   "outputs": [],
   "source": [
    "# vocabulary and character to idx map\n",
    "V = sorted(list(set(''.join(words))) + ['.'])\n",
    "stoi = {s:i for i, s in enumerate(V)}\n",
    "itos = {i:s for s, i in stoi.items()}"
   ]
  },
  {
   "cell_type": "code",
   "execution_count": 4,
   "id": "62e7660d-8db5-4a68-a1be-8cad4701168a",
   "metadata": {
    "tags": []
   },
   "outputs": [],
   "source": [
    "g = torch.Generator().manual_seed(2147483647)"
   ]
  },
  {
   "cell_type": "code",
   "execution_count": 5,
   "id": "85f46955-40be-4f6c-bb73-933aef7d10f0",
   "metadata": {
    "tags": []
   },
   "outputs": [],
   "source": [
    "# hyperparameters\n",
    "block_size = 4\n",
    "embedding_size = 20\n",
    "hidden_layer_size = 200\n",
    "epochs = 100000\n",
    "minibatch_size = 64\n",
    "learning_rate = 0.1\n",
    "lr_decay_factor = 10"
   ]
  },
  {
   "cell_type": "code",
   "execution_count": 6,
   "id": "f94584a2-0f4a-4c11-97f0-e4ee30b1c322",
   "metadata": {
    "tags": []
   },
   "outputs": [],
   "source": [
    "# create db\n",
    "n1, n2 = int(0.8*len(words)), int(0.9*len(words))\n",
    "\n",
    "def split_data(W):\n",
    "    X, y = [], []\n",
    "    for word in W:\n",
    "        context = [0] * block_size\n",
    "        for ch in word + '.':\n",
    "            ix = stoi[ch]\n",
    "            X.append(context)\n",
    "            y.append(ix)\n",
    "            context = context[1:] + [ix]\n",
    "    X = torch.tensor(X)\n",
    "    y = torch.tensor(y)\n",
    "    return X, y\n",
    "\n",
    "X_train, y_train = split_data(words[:n1])\n",
    "X_dev, y_dev = split_data(words[n1:n2])\n",
    "X_test, y_test = split_data(words[n2:])"
   ]
  },
  {
   "cell_type": "code",
   "execution_count": 7,
   "id": "315b604b-3487-4da8-8ac6-14643b59ab18",
   "metadata": {
    "tags": []
   },
   "outputs": [],
   "source": [
    "# PyTorch implementation without using nn.Module\n",
    "class Linear:\n",
    "    def __init__(self, fan_in, fan_out, gain=5/3, bias=True):\n",
    "        self.weights = gain * torch.randn((fan_in, fan_out), generator=g) / fan_in**0.5\n",
    "        self.bias = torch.zeros(fan_out) if bias else None\n",
    "    def __call__(self, x):\n",
    "        out = x @ self.weights\n",
    "        if self.bias is not None:\n",
    "            out += self.bias\n",
    "        return out\n",
    "    def parameters(self):\n",
    "        return [self.weights] + ([] if self.bias is None else [self.bias])"
   ]
  },
  {
   "cell_type": "code",
   "execution_count": 8,
   "id": "c038f62f-27a9-460d-b7af-24028cf542bc",
   "metadata": {
    "tags": []
   },
   "outputs": [],
   "source": [
    "# batchnorm layer\n",
    "class BatchNorm1d:\n",
    "    def __init__(self, num_features, momentum, eps=1e-05):\n",
    "        self.eps = eps\n",
    "        self.training = True\n",
    "        self.momentum = momentum\n",
    "        # parameters\n",
    "        self.gamma = torch.ones(num_features)\n",
    "        self.beta = torch.zeros(num_features)\n",
    "        # buffers\n",
    "        self.running_mean = torch.zeros(num_features)\n",
    "        self.running_var = torch.ones(num_features)\n",
    "    def __call__(self, x):\n",
    "        if self.training:\n",
    "            bmean = x.mean(0, keepdim=True) # batch mean\n",
    "            bvar = x.var(0, keepdim=True) # batch variance\n",
    "        else:\n",
    "            bmean = self.running_mean\n",
    "            bvar = self.running_var\n",
    "        xhat = (x - bmean) / torch.sqrt(bvar + self.eps)\n",
    "        out = self.gamma * xhat + self.beta\n",
    "        if self.training:\n",
    "            with torch.no_grad():\n",
    "                self.running_mean = (1 - self.momentum) * self.running_mean + self.momentum * bmean\n",
    "                self.running_var = (1 - self.momentum) * self.running_var + self.momentum * bvar\n",
    "        return out\n",
    "    def parameters(self):\n",
    "        return [self.gamma, self.beta]"
   ]
  },
  {
   "cell_type": "code",
   "execution_count": 9,
   "id": "ed5e57e9-70b0-472f-a73c-267d56492b71",
   "metadata": {
    "tags": []
   },
   "outputs": [],
   "source": [
    "# tanh layer\n",
    "class Tanh:\n",
    "    def __call__(self, x):\n",
    "        out = torch.tanh(x)\n",
    "        return out\n",
    "    def parameters(self):\n",
    "        return []"
   ]
  },
  {
   "cell_type": "code",
   "execution_count": 10,
   "id": "90d35bce-e1c0-4ed4-bab2-41d3fb531bcd",
   "metadata": {
    "tags": []
   },
   "outputs": [],
   "source": [
    "# embedding\n",
    "E = torch.randn((len(V), embedding_size), generator=g)"
   ]
  },
  {
   "cell_type": "code",
   "execution_count": 11,
   "id": "d56a189e-c6e1-4c48-b76c-27d21c7383a1",
   "metadata": {
    "tags": []
   },
   "outputs": [],
   "source": [
    "# neural net\n",
    "Layers = [\n",
    "    Linear(block_size * embedding_size, hidden_layer_size, bias=False),\n",
    "    BatchNorm1d(hidden_layer_size, momentum=0.01),\n",
    "    Tanh(),\n",
    "    Linear(hidden_layer_size, len(V), bias=True)\n",
    "]\n",
    "with torch.no_grad():\n",
    "    Layers[-1].weights * 0.01"
   ]
  },
  {
   "cell_type": "code",
   "execution_count": 12,
   "id": "ed682c42-95eb-4418-afc6-0007868bb7e1",
   "metadata": {
    "tags": []
   },
   "outputs": [],
   "source": [
    "parameters = [E] + [p for layer in Layers for p in layer.parameters()]\n",
    "for p in parameters:\n",
    "    p.requires_grad = True"
   ]
  },
  {
   "cell_type": "code",
   "execution_count": 13,
   "id": "59acf11e-ef49-4088-95db-bf5b6823de35",
   "metadata": {
    "tags": []
   },
   "outputs": [
    {
     "name": "stdout",
     "output_type": "stream",
     "text": [
      "Epoch: 0/100000: 4.0073\n",
      "Epoch: 10000/100000: 1.9218\n",
      "Epoch: 20000/100000: 2.1048\n",
      "Epoch: 30000/100000: 1.8048\n",
      "Epoch: 40000/100000: 2.0005\n",
      "Epoch: 50000/100000: 2.1904\n",
      "Epoch: 60000/100000: 1.8919\n",
      "Epoch: 70000/100000: 1.8936\n",
      "Epoch: 80000/100000: 1.8058\n",
      "Epoch: 90000/100000: 1.8027\n"
     ]
    },
    {
     "data": {
      "image/png": "[encoded data removed]",
      "text/plain": [
       "<Figure size 640x480 with 1 Axes>"
      ]
     },
     "metadata": {},
     "output_type": "display_data"
    }
   ],
   "source": [
    "# train\n",
    "lossi = []\n",
    "stepi = []\n",
    "for epoch in range(epochs):\n",
    "    ix = torch.randint(0, X_train.shape[0], (minibatch_size,), generator=g)\n",
    "    Xb, yb = X_train[ix], y_train[ix]\n",
    "    \n",
    "    # forward pass\n",
    "    emb = E[Xb]\n",
    "    x = emb.view(emb.shape[0], -1)\n",
    "    for layer in Layers:\n",
    "        x = layer(x)\n",
    "    loss = F.cross_entropy(x, yb)\n",
    "\n",
    "    # backward pass\n",
    "    for p in parameters:\n",
    "        p.grad = None\n",
    "    loss.backward()\n",
    "\n",
    "    # update\n",
    "    for p in parameters:\n",
    "        lr = learning_rate\n",
    "        if epoch > int(0.9*epochs):\n",
    "            lr /= lr_decay_factor\n",
    "        p.data += -learning_rate * p.grad\n",
    "    stepi.append(epoch)\n",
    "    lossi.append(loss.log10().item())\n",
    "    if epoch%10000 == 0:\n",
    "        print(f'Epoch: {epoch}/{epochs}: {loss.item():.4f}')\n",
    "plt.plot(stepi, lossi);"
   ]
  },
  {
   "cell_type": "code",
   "execution_count": 17,
   "id": "c699a0da-a653-46fc-b842-d5c8746a1bca",
   "metadata": {
    "tags": []
   },
   "outputs": [
    {
     "name": "stdout",
     "output_type": "stream",
     "text": [
      "train 1.9649356603622437\n",
      "dev 2.0752499103546143\n",
      "test 2.0656399726867676\n"
     ]
    }
   ],
   "source": [
    "@torch.no_grad()\n",
    "def split_loss(split):\n",
    "    X, y = {\n",
    "        'train': (X_train, y_train),\n",
    "        'dev': (X_dev, y_dev),\n",
    "        'test': (X_test, y_test)\n",
    "    }[split]\n",
    "    emb = E[X]\n",
    "    x = emb.view(emb.shape[0], -1)\n",
    "    for layer in Layers:\n",
    "        x = layer(x)\n",
    "    loss = F.cross_entropy(x, y)\n",
    "    print(split, loss.item())\n",
    "\n",
    "for layer in Layers:\n",
    "    layer.training = False\n",
    "split_loss('train')\n",
    "split_loss('dev')\n",
    "split_loss('test')"
   ]
  },
  {
   "cell_type": "code",
   "execution_count": 19,
   "id": "89d41af7-7285-4c93-86ab-85f4f4437aef",
   "metadata": {
    "tags": []
   },
   "outputs": [
    {
     "name": "stdout",
     "output_type": "stream",
     "text": [
      "nailah.\n",
      "daubella.\n",
      "zidre.\n",
      "caiven.\n",
      "khristollyntheucentro.\n",
      "aayaan.\n",
      "zhya.\n",
      "pelen.\n",
      "camariela.\n",
      "ki.\n",
      "gracerine.\n",
      "trace.\n",
      "donsy.\n",
      "alian.\n",
      "dempino.\n",
      "nora.\n",
      "camilo.\n",
      "mio.\n",
      "drivitaluton.\n",
      "vyrel.\n"
     ]
    }
   ],
   "source": [
    "# Sample from model\n",
    "for _ in range(20):\n",
    "    out = []\n",
    "    context = [0] * block_size\n",
    "    while True:\n",
    "        emb = E[torch.tensor([context])]\n",
    "        x = emb.view(emb.shape[0], -1)\n",
    "        for layer in Layers:\n",
    "            x = layer(x)\n",
    "        logits = x\n",
    "        probs = F.softmax(logits, dim=1)\n",
    "        ix = torch.multinomial(probs, num_samples=1, generator=g).item()\n",
    "        context = context[1:] + [ix]\n",
    "        out.append(ix)\n",
    "        if ix == 0:\n",
    "            break\n",
    "    print(\"\".join(itos[i] for i in out))"
   ]
  },
  {
   "cell_type": "code",
   "execution_count": 13,
   "id": "f3621f37-ba27-4820-9eae-56d36ef59111",
   "metadata": {
    "tags": []
   },
   "outputs": [],
   "source": [
    "# PyTorch implementation using nn.Module\n",
    "class MLP(nn.Module):\n",
    "    def __init__(self):\n",
    "        super().__init__()\n",
    "        self.wte = nn.Embedding(len(V), embedding_size)\n",
    "        self.mlp = nn.Sequential(\n",
    "            nn.Linear(embedding_size*block_size, hidden_layer_size, bias=False),\n",
    "            nn.BatchNorm1d(hidden_layer_size, momentum=0.01),\n",
    "            nn.Tanh(),\n",
    "            nn.Linear(hidden_layer_size, len(V))\n",
    "        )\n",
    "    def forward(self, idx, targets = None):\n",
    "        emb = self.wte(idx)\n",
    "        emb = emb.view(idx.shape[0], -1)\n",
    "        logits = self.mlp(emb)\n",
    "        loss = None\n",
    "        if targets is not None:\n",
    "            loss = F.cross_entropy(logits, targets)\n",
    "        return logits, loss"
   ]
  },
  {
   "cell_type": "code",
   "execution_count": 15,
   "id": "8804190c-a063-45e2-a028-0dbac4c6f699",
   "metadata": {
    "tags": []
   },
   "outputs": [],
   "source": [
    "model = MLP()"
   ]
  },
  {
   "cell_type": "code",
   "execution_count": 17,
   "id": "a4bf63aa-875d-4363-9d4a-eaea9e1bac75",
   "metadata": {
    "tags": []
   },
   "outputs": [],
   "source": [
    "optimizer = optim.SGD(model.parameters(), lr=learning_rate)"
   ]
  },
  {
   "cell_type": "code",
   "execution_count": 18,
   "id": "996b5121-8b6e-4727-a649-ba6aeea4cea1",
   "metadata": {
    "tags": []
   },
   "outputs": [
    {
     "data": {
      "text/plain": [
       "Linear(in_features=200, out_features=27, bias=True)"
      ]
     },
     "execution_count": 18,
     "metadata": {},
     "output_type": "execute_result"
    }
   ],
   "source": [
    "def kaiming_init(m):\n",
    "    if isinstance(m, nn.Linear):\n",
    "        nn.init.kaiming_normal_(m.weight, nonlinearity=\"tanh\", generator=g)\n",
    "        if m.bias is not None:\n",
    "            nn.init.zeros_(m.bias)\n",
    "def close_zero_init(m):\n",
    "     if isinstance(m, nn.Linear):\n",
    "        nn.init.xavier_normal_(m.weight, gain=0.1)\n",
    "        if m.bias is not None:\n",
    "            nn.init.zeros_(m.bias)\n",
    "model.mlp[0].apply(kaiming_init)\n",
    "model.mlp[-1].apply(close_zero_init)"
   ]
  },
  {
   "cell_type": "code",
   "execution_count": 19,
   "id": "54ea00a3-6177-4537-a49a-c1ed75829e66",
   "metadata": {
    "tags": []
   },
   "outputs": [
    {
     "name": "stdout",
     "output_type": "stream",
     "text": [
      "Epoch: 0/100000: 3.2766\n",
      "Epoch: 10000/100000: 2.2347\n",
      "Epoch: 20000/100000: 2.0497\n",
      "Epoch: 30000/100000: 1.7637\n",
      "Epoch: 40000/100000: 1.8826\n",
      "Epoch: 50000/100000: 2.2014\n",
      "Epoch: 60000/100000: 2.1449\n",
      "Epoch: 70000/100000: 1.9384\n",
      "Epoch: 80000/100000: 2.3577\n",
      "Epoch: 90000/100000: 2.2147\n"
     ]
    }
   ],
   "source": [
    "lossi = []\n",
    "stepi = []\n",
    "for epoch in range(epochs):\n",
    "    # minibatch\n",
    "    ix = torch.randint(0, X_train.shape[0], (minibatch_size,), generator=g)\n",
    "    Xb, yb = X_train[ix], y_train[ix]\n",
    "    \n",
    "    # forward\n",
    "    logits, loss = model(Xb, yb)\n",
    "    \n",
    "    # backward\n",
    "    loss.backward()\n",
    "    optimizer.step()\n",
    "    optimizer.zero_grad()\n",
    "    \n",
    "    stepi.append(epoch)\n",
    "    lossi.append(loss.log10().item())\n",
    "    if epoch%10000 == 0:\n",
    "        print(f'Epoch: {epoch}/{epochs}: {loss.item():.4f}')"
   ]
  },
  {
   "cell_type": "code",
   "execution_count": 26,
   "id": "46f27f50-b5ae-4a6e-9eb5-6194bab8c295",
   "metadata": {
    "tags": []
   },
   "outputs": [
    {
     "data": {
      "image/png": "[encoded data removed]",
      "text/plain": [
       "<Figure size 640x480 with 1 Axes>"
      ]
     },
     "metadata": {},
     "output_type": "display_data"
    }
   ],
   "source": [
    "plt.plot(stepi, lossi);"
   ]
  },
  {
   "cell_type": "code",
   "execution_count": 36,
   "id": "1db472ea-b517-45aa-82b2-eff15b496360",
   "metadata": {
    "tags": []
   },
   "outputs": [
    {
     "data": {
      "text/plain": [
       "MLP(\n",
       "  (wte): Embedding(27, 20)\n",
       "  (mlp): Sequential(\n",
       "    (0): Linear(in_features=80, out_features=200, bias=False)\n",
       "    (1): BatchNorm1d(200, eps=1e-05, momentum=0.01, affine=True, track_running_stats=True)\n",
       "    (2): Tanh()\n",
       "    (3): Linear(in_features=200, out_features=27, bias=True)\n",
       "  )\n",
       ")"
      ]
     },
     "execution_count": 36,
     "metadata": {},
     "output_type": "execute_result"
    }
   ],
   "source": [
    "model.eval()"
   ]
  },
  {
   "cell_type": "code",
   "execution_count": 38,
   "id": "63071fdb-47ba-4efa-9edb-b9f5940dd430",
   "metadata": {},
   "outputs": [
    {
     "name": "stdout",
     "output_type": "stream",
     "text": [
      "train 1.9662977457046509\n",
      "dev 2.0795669555664062\n",
      "test 2.073986530303955\n"
     ]
    }
   ],
   "source": [
    "@torch.no_grad()\n",
    "def split_loss(split):\n",
    "    x, y = {\n",
    "        'train': (X_train, y_train),\n",
    "        'dev': (X_dev, y_dev),\n",
    "        'test': (X_test, y_test)\n",
    "    }[split]\n",
    "    logits, loss = model(x, y)\n",
    "    print(split, loss.item())\n",
    "\n",
    "split_loss('train')\n",
    "split_loss('dev')\n",
    "split_loss('test')"
   ]
  },
  {
   "cell_type": "code",
   "execution_count": 47,
   "id": "8a1a8fee-d6f6-4f84-8999-db0253b049e9",
   "metadata": {
    "tags": []
   },
   "outputs": [
    {
     "name": "stdout",
     "output_type": "stream",
     "text": [
      "jaxley.\n",
      "onali.\n",
      "amara.\n",
      "dailyn.\n",
      "nikha.\n",
      "dariam.\n",
      "braycee.\n",
      "dani.\n",
      "nika.\n",
      "aashlynn.\n",
      "melle.\n",
      "zamya.\n",
      "kamae.\n",
      "lyne.\n",
      "alonner.\n",
      "mona.\n",
      "conne.\n",
      "harchellca.\n",
      "bubby.\n",
      "enaillianna.\n"
     ]
    }
   ],
   "source": [
    "# Sample from model\n",
    "for _ in range(20):\n",
    "    out = []\n",
    "    context = [0] * block_size\n",
    "    while True:\n",
    "        logits = model(torch.tensor([context]))\n",
    "        probs = F.softmax(logits[0], dim=1)\n",
    "        ix = torch.multinomial(probs, num_samples=1, generator=g).item()\n",
    "        context = context[1:] + [ix]\n",
    "        out.append(ix)\n",
    "        if ix == 0:\n",
    "            break\n",
    "    print(\"\".join(itos[i] for i in out))"
   ]
  },
  {
   "cell_type": "code",
   "execution_count": null,
   "id": "36ed110f-01d8-4e56-9904-699c1cf1d151",
   "metadata": {},
   "outputs": [],
   "source": []
  }
 ],
 "metadata": {
  "kernelspec": {
   "display_name": "Python 3 (ipykernel)",
   "language": "python",
   "name": "python3"
  },
  "language_info": {
   "codemirror_mode": {
    "name": "ipython",
    "version": 3
   },
   "file_extension": ".py",
   "mimetype": "text/x-python",
   "name": "python",
   "nbconvert_exporter": "python",
   "pygments_lexer": "ipython3",
   "version": "3.11.7"
  }
 },
 "nbformat": 4,
 "nbformat_minor": 5
}

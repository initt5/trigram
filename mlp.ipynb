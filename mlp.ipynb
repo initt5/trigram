{
 "cells": [
  {
   "cell_type": "code",
   "execution_count": 1,
   "id": "c9a8678b",
   "metadata": {},
   "outputs": [],
   "source": [
    "import torch\n",
    "import torch.nn.functional as F\n",
    "import matplotlib.pyplot as plt\n",
    "%matplotlib inline"
   ]
  },
  {
   "cell_type": "code",
   "execution_count": 2,
   "id": "e3a25637",
   "metadata": {},
   "outputs": [
    {
     "data": {
      "text/plain": [
       "['emma',\n",
       " 'olivia',\n",
       " 'ava',\n",
       " 'isabella',\n",
       " 'sophia',\n",
       " 'charlotte',\n",
       " 'mia',\n",
       " 'amelia',\n",
       " 'harper',\n",
       " 'evelyn']"
      ]
     },
     "execution_count": 2,
     "metadata": {},
     "output_type": "execute_result"
    }
   ],
   "source": [
    "# Read all words\n",
    "words = open('names.txt', 'r').read().splitlines()\n",
    "words[:10]"
   ]
  },
  {
   "cell_type": "code",
   "execution_count": 3,
   "id": "add81829",
   "metadata": {},
   "outputs": [
    {
     "name": "stdout",
     "output_type": "stream",
     "text": [
      "{1: 'a', 2: 'b', 3: 'c', 4: 'd', 5: 'e', 6: 'f', 7: 'g', 8: 'h', 9: 'i', 10: 'j', 11: 'k', 12: 'l', 13: 'm', 14: 'n', 15: 'o', 16: 'p', 17: 'q', 18: 'r', 19: 's', 20: 't', 21: 'u', 22: 'v', 23: 'w', 24: 'x', 25: 'y', 26: 'z', 0: '.'}\n"
     ]
    }
   ],
   "source": [
    "# Vocabulary and chars mappings\n",
    "chars = sorted(list(set(''.join(words))))\n",
    "stoi = {s:i+1 for i,s in enumerate(chars)}\n",
    "stoi['.'] = 0\n",
    "itos = {i:s for s,i in stoi.items()}\n",
    "print(itos)"
   ]
  },
  {
   "cell_type": "code",
   "execution_count": 4,
   "id": "b8a2eee3",
   "metadata": {},
   "outputs": [],
   "source": [
    "# Hyperparameters\n",
    "block_size = 4\n",
    "embedding_size = 20\n",
    "hidden_layer_size = 200\n",
    "epochs = 100000\n",
    "minibatch_size = 64\n",
    "learning_rate = 0.1\n",
    "lr_decay_factor = 10"
   ]
  },
  {
   "cell_type": "code",
   "execution_count": 5,
   "id": "756de927",
   "metadata": {},
   "outputs": [],
   "source": [
    "# Create database\n",
    "def create_db(words):\n",
    "    X, y = [], []\n",
    "    for w in words:\n",
    "        context = [0] * block_size\n",
    "        for ch in w + '.':\n",
    "            ix = stoi[ch]\n",
    "            X.append(context)\n",
    "            y.append(ix)\n",
    "            context = context[1:] + [ix]\n",
    "    X = torch.tensor(X)\n",
    "    y = torch.tensor(y)\n",
    "    return X, y\n",
    "import random\n",
    "random.seed(42)\n",
    "random.shuffle(words)\n",
    "n1 = int(0.8*len(words))\n",
    "n2 = int(0.9*len(words))\n",
    "X_train, y_train = create_db(words[:n1])\n",
    "X_dev, y_dev = create_db(words[n1:n2])\n",
    "X_test, y_test = create_db(words[n2:])"
   ]
  },
  {
   "cell_type": "code",
   "execution_count": 6,
   "id": "65ca6644",
   "metadata": {},
   "outputs": [
    {
     "data": {
      "text/plain": [
       "(182625, 22655, 22866)"
      ]
     },
     "execution_count": 6,
     "metadata": {},
     "output_type": "execute_result"
    }
   ],
   "source": [
    "len(X_train), len(X_dev), len(X_test)"
   ]
  },
  {
   "cell_type": "code",
   "execution_count": 7,
   "id": "70df32eb",
   "metadata": {},
   "outputs": [],
   "source": [
    "# Initialize weights\n",
    "g = torch.Generator().manual_seed(2147483647)\n",
    "E = torch.randn((27, embedding_size), generator=g)\n",
    "W1 = torch.randn((block_size * embedding_size, hidden_layer_size), generator=g) * (5/3)/((block_size * embedding_size)**0.5)\n",
    "#b1 = torch.randn(hidden_layer_size, generator=g) * 0.01\n",
    "W2 = torch.randn((hidden_layer_size, 27), generator=g) * 0.01\n",
    "b2 = torch.randn(27, generator=g) * 0\n",
    "\n",
    "bngain = torch.ones((1, hidden_layer_size))\n",
    "bnbias = torch.zeros((1, hidden_layer_size))\n",
    "bnmean_running = torch.zeros((1, hidden_layer_size))\n",
    "bnstd_running = torch.ones((1, hidden_layer_size))\n",
    "\n",
    "parameters = [E, W1, W2, b2, bngain, bnbias]"
   ]
  },
  {
   "cell_type": "code",
   "execution_count": 8,
   "id": "eae2cbe7",
   "metadata": {},
   "outputs": [
    {
     "data": {
      "text/plain": [
       "22367"
      ]
     },
     "execution_count": 8,
     "metadata": {},
     "output_type": "execute_result"
    }
   ],
   "source": [
    "sum(p.nelement() for p in parameters)"
   ]
  },
  {
   "cell_type": "code",
   "execution_count": 9,
   "id": "662bb85f",
   "metadata": {},
   "outputs": [],
   "source": [
    "# Require grad\n",
    "for p in parameters:\n",
    "    p.requires_grad = True"
   ]
  },
  {
   "cell_type": "code",
   "execution_count": 10,
   "id": "b9b5c510",
   "metadata": {},
   "outputs": [
    {
     "name": "stdout",
     "output_type": "stream",
     "text": [
      "Epoch: 0/100000: 3.2921\n",
      "Epoch: 10000/100000: 2.1133\n",
      "Epoch: 20000/100000: 2.3829\n",
      "Epoch: 30000/100000: 2.1259\n",
      "Epoch: 40000/100000: 1.9520\n",
      "Epoch: 50000/100000: 2.0083\n",
      "Epoch: 60000/100000: 2.1257\n",
      "Epoch: 70000/100000: 1.8746\n",
      "Epoch: 80000/100000: 1.9710\n",
      "Epoch: 90000/100000: 2.1944\n"
     ]
    },
    {
     "data": {
      "image/png": "[encoded data removed]",
      "text/plain": [
       "<Figure size 640x480 with 1 Axes>"
      ]
     },
     "metadata": {},
     "output_type": "display_data"
    }
   ],
   "source": [
    "# Gradient descent\n",
    "lossi = []\n",
    "stepi = []\n",
    "for i in range(epochs):\n",
    "    # construct minibatch\n",
    "    ix = torch.randint(0, X_train.shape[0], (minibatch_size,), generator=g)\n",
    "    Xb, yb = X_train[ix], y_train[ix]\n",
    "\n",
    "    # forward pass\n",
    "    emb = E[Xb]\n",
    "    embcat = emb.view(emb.shape[0], -1)\n",
    "    hpreact = embcat @ W1 #+ b1\n",
    "    bnmeani = hpreact.mean(0, keepdim=True)\n",
    "    bnstdi = hpreact.std(0, keepdim=True)\n",
    "    hpreact = bngain * (hpreact - bnmeani) / bnstdi + bnbias #batchnorm\n",
    "    \n",
    "    with torch.no_grad():\n",
    "        bnmean_running = 0.999 * bnmean_running + 0.001 * bnmeani\n",
    "        bnstd_running = 0.999 * bnstd_running + 0.001 * bnstdi\n",
    "    \n",
    "    h = torch.tanh(hpreact)\n",
    "    logits = h @ W2 + b2\n",
    "    loss = F.cross_entropy(logits, y_train[ix])\n",
    "\n",
    "    # backward pass\n",
    "    for p in parameters:\n",
    "        p.grad = None\n",
    "    loss.backward()\n",
    "\n",
    "    # update\n",
    "    for p in parameters:\n",
    "        lr = learning_rate\n",
    "        if i > int(0.9*epochs):\n",
    "            lr /= lr_decay_factor\n",
    "        p.data += -learning_rate * p.grad\n",
    "    stepi.append(i)\n",
    "    lossi.append(loss.log10().item())\n",
    "    if i%10000 == 0:\n",
    "        print(f'Epoch: {i}/{epochs}: {loss.item():.4f}')\n",
    "plt.plot(stepi, lossi);"
   ]
  },
  {
   "cell_type": "code",
   "execution_count": 14,
   "id": "49892a77-3c57-49ab-8f73-ba436ad548a7",
   "metadata": {
    "tags": []
   },
   "outputs": [
    {
     "name": "stdout",
     "output_type": "stream",
     "text": [
      "train 1.9658575057983398\n",
      "dev 2.075390338897705\n",
      "test 2.0687508583068848\n"
     ]
    }
   ],
   "source": [
    "@torch.no_grad()\n",
    "def split_loss(split):\n",
    "    x, y = {\n",
    "        'train': (X_train, y_train),\n",
    "        'dev': (X_dev, y_dev),\n",
    "        'test': (X_test, y_test)\n",
    "    }[split]\n",
    "    emb = E[x]\n",
    "    embcat = emb.view(emb.shape[0], -1)\n",
    "    hpreact = embcat @ W1\n",
    "    hpreact = bngain * (hpreact - bnmean_running) / bnstd_running + bnbias #batchnorm\n",
    "    h = torch.tanh(hpreact)\n",
    "    logits = h @ W2 + b2\n",
    "    loss = F.cross_entropy(logits, y)\n",
    "    print(split, loss.item())\n",
    "\n",
    "split_loss('train')\n",
    "split_loss('dev')\n",
    "split_loss('test')"
   ]
  },
  {
   "cell_type": "code",
   "execution_count": 15,
   "id": "281d8e5f",
   "metadata": {},
   "outputs": [
    {
     "name": "stdout",
     "output_type": "stream",
     "text": [
      "aces.\n",
      "rokaan.\n",
      "akringwan.\n",
      "lex.\n",
      "camariela.\n",
      "ki.\n",
      "gracerilee.\n",
      "race.\n",
      "donsa.\n",
      "alahnie.\n",
      "marki.\n",
      "nora.\n",
      "camra.\n",
      "daionny.\n",
      "aidan.\n",
      "teshvy.\n",
      "elia.\n",
      "rexon.\n",
      "codie.\n",
      "mavika.\n"
     ]
    }
   ],
   "source": [
    "# Sample from model\n",
    "for _ in range(20):\n",
    "    out = []\n",
    "    context = [0] * block_size\n",
    "    while True:\n",
    "        emb = E[torch.tensor([context])]\n",
    "        embcat = emb.view(1, -1)\n",
    "        hpreact = embcat @ W1\n",
    "        hpreact = bngain * (hpreact - bnmean_running) / bnstd_running + bnbias\n",
    "        h = torch.tanh(hpreact)\n",
    "        logits = h @ W2 + b2\n",
    "        probs = F.softmax(logits, dim=1)\n",
    "        ix = torch.multinomial(probs, num_samples=1, generator=g).item()\n",
    "        context = context[1:] + [ix]\n",
    "        out.append(ix)\n",
    "        if ix == 0:\n",
    "            break\n",
    "    print(\"\".join(itos[i] for i in out))"
   ]
  },
  {
   "cell_type": "code",
   "execution_count": null,
   "id": "2d6b5b83",
   "metadata": {},
   "outputs": [],
   "source": []
  }
 ],
 "metadata": {
  "kernelspec": {
   "display_name": "Python 3 (ipykernel)",
   "language": "python",
   "name": "python3"
  },
  "language_info": {
   "codemirror_mode": {
    "name": "ipython",
    "version": 3
   },
   "file_extension": ".py",
   "mimetype": "text/x-python",
   "name": "python",
   "nbconvert_exporter": "python",
   "pygments_lexer": "ipython3",
   "version": "3.11.7"
  }
 },
 "nbformat": 4,
 "nbformat_minor": 5
}

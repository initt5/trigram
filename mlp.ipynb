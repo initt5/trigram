{
 "cells": [
  {
   "cell_type": "code",
   "execution_count": 1,
   "id": "9a68de1c",
   "metadata": {},
   "outputs": [],
   "source": [
    "import torch\n",
    "import torch.nn.functional as F\n",
    "import matplotlib.pyplot as plt\n",
    "%matplotlib inline"
   ]
  },
  {
   "cell_type": "code",
   "execution_count": 2,
   "id": "14a1ed54",
   "metadata": {},
   "outputs": [
    {
     "data": {
      "text/plain": [
       "['emma',\n",
       " 'olivia',\n",
       " 'ava',\n",
       " 'isabella',\n",
       " 'sophia',\n",
       " 'charlotte',\n",
       " 'mia',\n",
       " 'amelia',\n",
       " 'harper',\n",
       " 'evelyn']"
      ]
     },
     "execution_count": 2,
     "metadata": {},
     "output_type": "execute_result"
    }
   ],
   "source": [
    "# Read all words\n",
    "words = open('names.txt', 'r').read().splitlines()\n",
    "words[:10]"
   ]
  },
  {
   "cell_type": "code",
   "execution_count": 3,
   "id": "4c24c57f",
   "metadata": {},
   "outputs": [
    {
     "name": "stdout",
     "output_type": "stream",
     "text": [
      "{1: 'a', 2: 'b', 3: 'c', 4: 'd', 5: 'e', 6: 'f', 7: 'g', 8: 'h', 9: 'i', 10: 'j', 11: 'k', 12: 'l', 13: 'm', 14: 'n', 15: 'o', 16: 'p', 17: 'q', 18: 'r', 19: 's', 20: 't', 21: 'u', 22: 'v', 23: 'w', 24: 'x', 25: 'y', 26: 'z', 0: '.'}\n"
     ]
    }
   ],
   "source": [
    "# Vocabulary and chars mappings\n",
    "chars = sorted(list(set(''.join(words))))\n",
    "stoi = {s:i+1 for i,s in enumerate(chars)}\n",
    "stoi['.'] = 0\n",
    "itos = {i:s for s,i in stoi.items()}\n",
    "print(itos)"
   ]
  },
  {
   "cell_type": "code",
   "execution_count": 4,
   "id": "91aa7f2e",
   "metadata": {},
   "outputs": [],
   "source": [
    "# Hyperparameters\n",
    "block_size = 4\n",
    "embedding_size = 20\n",
    "hidden_layer_size = 200\n",
    "epochs = 200000\n",
    "minibatch_size = 64\n",
    "learning_rate = 0.1\n",
    "lr_decay_factor = 10"
   ]
  },
  {
   "cell_type": "code",
   "execution_count": 5,
   "id": "19ad94a6",
   "metadata": {},
   "outputs": [],
   "source": [
    "# Create database\n",
    "def create_db(words):\n",
    "    X, y = [], []\n",
    "    for w in words:\n",
    "        context = [0] * block_size\n",
    "        for ch in w + '.':\n",
    "            ix = stoi[ch]\n",
    "            X.append(context)\n",
    "            y.append(ix)\n",
    "            context = context[1:] + [ix]\n",
    "    X = torch.tensor(X)\n",
    "    y = torch.tensor(y)\n",
    "    return X, y\n",
    "import random\n",
    "random.seed(42)\n",
    "random.shuffle(words)\n",
    "n1 = int(0.8*len(words))\n",
    "n2 = int(0.9*len(words))\n",
    "X_train, y_train = create_db(words[:n1])\n",
    "X_dev, y_dev = create_db(words[n1:n2])\n",
    "X_test, y_test = create_db(words[n2:])"
   ]
  },
  {
   "cell_type": "code",
   "execution_count": 6,
   "id": "dbb214b9",
   "metadata": {},
   "outputs": [
    {
     "data": {
      "text/plain": [
       "(182625, 22655, 22866)"
      ]
     },
     "execution_count": 6,
     "metadata": {},
     "output_type": "execute_result"
    }
   ],
   "source": [
    "len(X_train), len(X_dev), len(X_test)"
   ]
  },
  {
   "cell_type": "code",
   "execution_count": 7,
   "id": "d549ed24",
   "metadata": {},
   "outputs": [],
   "source": [
    "# Initialize weights\n",
    "g = torch.Generator().manual_seed(2147483647)\n",
    "E = torch.randn((27, embedding_size), generator=g)\n",
    "W1 = torch.randn((block_size * embedding_size, hidden_layer_size), generator=g)\n",
    "b1 = torch.randn(hidden_layer_size, generator=g)\n",
    "W2 = torch.randn((hidden_layer_size, 27), generator=g)\n",
    "b2 = torch.randn(27, generator=g)\n",
    "parameters = [E, W1, b1, W2, b2]"
   ]
  },
  {
   "cell_type": "code",
   "execution_count": 8,
   "id": "b71688f1",
   "metadata": {},
   "outputs": [
    {
     "data": {
      "text/plain": [
       "22167"
      ]
     },
     "execution_count": 8,
     "metadata": {},
     "output_type": "execute_result"
    }
   ],
   "source": [
    "sum(p.nelement() for p in parameters)"
   ]
  },
  {
   "cell_type": "code",
   "execution_count": 9,
   "id": "2d1f1b1d",
   "metadata": {},
   "outputs": [],
   "source": [
    "# Require grad\n",
    "for p in parameters:\n",
    "    p.requires_grad = True"
   ]
  },
  {
   "cell_type": "code",
   "execution_count": 10,
   "id": "f9be4f0c",
   "metadata": {},
   "outputs": [],
   "source": [
    "# Gradient descent\n",
    "def train_model(parameters, epochs=epochs, minibatch_size=minibatch_size, block_size=block_size, embedding_size=embedding_size,\n",
    "                learning_rate=learning_rate, lr_decay_factor=lr_decay_factor):\n",
    "    lossi = []\n",
    "    stepi = []\n",
    "    for i in range(epochs):\n",
    "        # construct minibatch\n",
    "        ix = torch.randint(0, X_train.shape[0], (minibatch_size,))\n",
    "\n",
    "        # forward pass\n",
    "        emb = E[X_train[ix]]\n",
    "        h = torch.tanh(emb.view(-1, block_size * embedding_size) @ W1 + b1)\n",
    "        logits = h @ W2 + b2\n",
    "        loss = F.cross_entropy(logits, y_train[ix])\n",
    "\n",
    "        # backward pass\n",
    "        for p in parameters:\n",
    "            p.grad = None\n",
    "        loss.backward()\n",
    "\n",
    "        # update\n",
    "        for p in parameters:\n",
    "            lr = learning_rate\n",
    "            if i > int(0.9*epochs):\n",
    "                lr /= lr_decay_factor\n",
    "            p.data += -learning_rate * p.grad\n",
    "        stepi.append(i)\n",
    "        lossi.append(loss.log10().item())\n",
    "    plt.plot(stepi, lossi)\n",
    "    return parameters"
   ]
  },
  {
   "cell_type": "code",
   "execution_count": 11,
   "id": "05ea3a4c",
   "metadata": {},
   "outputs": [
    {
     "data": {
      "image/png": "[encoded data removed]",
      "text/plain": [
       "<Figure size 640x480 with 1 Axes>"
      ]
     },
     "metadata": {},
     "output_type": "display_data"
    }
   ],
   "source": [
    "m = train_model(parameters)"
   ]
  },
  {
   "cell_type": "code",
   "execution_count": 12,
   "id": "94661e97",
   "metadata": {},
   "outputs": [
    {
     "name": "stdout",
     "output_type": "stream",
     "text": [
      "2.0755016803741455\n"
     ]
    }
   ],
   "source": [
    "# Train loss\n",
    "emb = E[X_train]\n",
    "h = torch.tanh(emb.view(-1, block_size * embedding_size) @ W1 + b1)\n",
    "logits = h @ W2 + b2\n",
    "loss = F.cross_entropy(logits, y_train)\n",
    "print(loss.item())"
   ]
  },
  {
   "cell_type": "code",
   "execution_count": 13,
   "id": "b32788ad",
   "metadata": {},
   "outputs": [
    {
     "name": "stdout",
     "output_type": "stream",
     "text": [
      "2.1715023517608643\n"
     ]
    }
   ],
   "source": [
    "# Dev loss\n",
    "emb = E[X_dev]\n",
    "h = torch.tanh(emb.view(-1, block_size * embedding_size) @ W1 + b1)\n",
    "logits = h @ W2 + b2\n",
    "loss = F.cross_entropy(logits, y_dev)\n",
    "print(loss.item())"
   ]
  },
  {
   "cell_type": "code",
   "execution_count": null,
   "id": "09c0cc49",
   "metadata": {},
   "outputs": [],
   "source": []
  }
 ],
 "metadata": {
  "kernelspec": {
   "display_name": "Python 3 (ipykernel)",
   "language": "python",
   "name": "python3"
  },
  "language_info": {
   "codemirror_mode": {
    "name": "ipython",
    "version": 3
   },
   "file_extension": ".py",
   "mimetype": "text/x-python",
   "name": "python",
   "nbconvert_exporter": "python",
   "pygments_lexer": "ipython3",
   "version": "3.11.7"
  }
 },
 "nbformat": 4,
 "nbformat_minor": 5
}

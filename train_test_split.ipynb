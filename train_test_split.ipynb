{
 "cells": [
  {
   "cell_type": "code",
   "execution_count": 1,
   "id": "7266e20c",
   "metadata": {},
   "outputs": [],
   "source": [
    "import math\n",
    "import torch\n",
    "import torch.nn.functional as F\n",
    "from torch.utils.data import random_split"
   ]
  },
  {
   "cell_type": "code",
   "execution_count": 2,
   "id": "0c67492e",
   "metadata": {},
   "outputs": [
    {
     "data": {
      "text/plain": [
       "['emma',\n",
       " 'olivia',\n",
       " 'ava',\n",
       " 'isabella',\n",
       " 'sophia',\n",
       " 'charlotte',\n",
       " 'mia',\n",
       " 'amelia',\n",
       " 'harper',\n",
       " 'evelyn']"
      ]
     },
     "execution_count": 2,
     "metadata": {},
     "output_type": "execute_result"
    }
   ],
   "source": [
    "# Dataset\n",
    "words = open('names.txt', 'r').read().splitlines()\n",
    "words[:10]"
   ]
  },
  {
   "cell_type": "code",
   "execution_count": 3,
   "id": "5bf4c9a6",
   "metadata": {},
   "outputs": [],
   "source": [
    "g = torch.Generator().manual_seed(2147483647)"
   ]
  },
  {
   "cell_type": "code",
   "execution_count": 4,
   "id": "f084f833",
   "metadata": {},
   "outputs": [
    {
     "data": {
      "text/plain": [
       "{'a': 1,\n",
       " 'b': 2,\n",
       " 'c': 3,\n",
       " 'd': 4,\n",
       " 'e': 5,\n",
       " 'f': 6,\n",
       " 'g': 7,\n",
       " 'h': 8,\n",
       " 'i': 9,\n",
       " 'j': 10,\n",
       " 'k': 11,\n",
       " 'l': 12,\n",
       " 'm': 13,\n",
       " 'n': 14,\n",
       " 'o': 15,\n",
       " 'p': 16,\n",
       " 'q': 17,\n",
       " 'r': 18,\n",
       " 's': 19,\n",
       " 't': 20,\n",
       " 'u': 21,\n",
       " 'v': 22,\n",
       " 'w': 23,\n",
       " 'x': 24,\n",
       " 'y': 25,\n",
       " 'z': 26,\n",
       " '.': 0}"
      ]
     },
     "execution_count": 4,
     "metadata": {},
     "output_type": "execute_result"
    }
   ],
   "source": [
    "chars = sorted(list(set(''.join(words))))\n",
    "stoi = {s:i+1 for i, s in enumerate(chars)} # Characters to indexes\n",
    "stoi['.'] = 0\n",
    "itos = {i:s for s,i in stoi.items()} # Indexes to characters\n",
    "stoi"
   ]
  },
  {
   "cell_type": "code",
   "execution_count": 5,
   "id": "f81b460b",
   "metadata": {},
   "outputs": [],
   "source": [
    "#################################################################################### Bigram ####################################################################################\n",
    "\n",
    "# Split data set\n",
    "train_data, dev_data, test_data = random_split(words, [0.8, 0.1, 0.1], generator=g)\n",
    "X_train, y_train = [], []\n",
    "def split_data(data):\n",
    "    X, y = [], []\n",
    "    for w in data:\n",
    "        chs = ['.'] + list(w) + ['.']\n",
    "        for ch1, ch2 in zip(chs, chs[1:]):\n",
    "            X.append(stoi[ch1])\n",
    "            y.append(stoi[ch2])\n",
    "    X = torch.tensor(X)\n",
    "    y = torch.tensor(y)\n",
    "    return [X, y]\n",
    "\n",
    "# Create train, dev and test sets\n",
    "X_train, y_train = split_data(train_data)\n",
    "X_dev, y_dev = split_data(dev_data)\n",
    "X_test, y_test = split_data(test_data)"
   ]
  },
  {
   "cell_type": "code",
   "execution_count": 6,
   "id": "636b0fd4",
   "metadata": {},
   "outputs": [],
   "source": [
    "W = torch.randn((27, 27), generator=g, requires_grad=True)"
   ]
  },
  {
   "cell_type": "code",
   "execution_count": 7,
   "id": "51c19515",
   "metadata": {},
   "outputs": [
    {
     "name": "stdout",
     "output_type": "stream",
     "text": [
      "Epoch: 1 loss: 3.6793460845947266\n",
      "Epoch: 10 loss: 2.685643196105957\n",
      "Epoch: 20 loss: 2.571347713470459\n",
      "Epoch: 30 loss: 2.5294389724731445\n",
      "Epoch: 40 loss: 2.5084228515625\n",
      "Epoch: 50 loss: 2.496042251586914\n"
     ]
    }
   ],
   "source": [
    "n = X_train.nelement()\n",
    "Xenc = F.one_hot(X_train, num_classes=27).float()\n",
    "for epoch in range(50):\n",
    "    # forward pass\n",
    "    logits = Xenc @ W\n",
    "    counts = logits.exp()\n",
    "    probs = counts / counts.sum(1, keepdims=True)\n",
    "    loss = -probs[torch.arange(n), y_train].log().mean()\n",
    "    \n",
    "    # backward pass\n",
    "    W.grad = None\n",
    "    loss.backward()\n",
    "    \n",
    "    # update\n",
    "    W.data += -50 * W.grad\n",
    "    if (epoch == 0 or ((epoch+1)%10) == 0):\n",
    "        print(f'Epoch: {epoch+1} loss: {loss}')\n"
   ]
  },
  {
   "cell_type": "code",
   "execution_count": 8,
   "id": "07a98a7a",
   "metadata": {},
   "outputs": [],
   "source": [
    "n = X_dev.nelement()\n",
    "# Loss on dev set\n",
    "Xenc = F.one_hot(X_dev, num_classes=27).float()\n",
    "logits = Xenc @ W\n",
    "counts = logits.exp()\n",
    "probs = counts / counts.sum(1, keepdims=True)\n",
    "loss = -probs[torch.arange(n), y_dev].log().mean()"
   ]
  },
  {
   "cell_type": "code",
   "execution_count": 9,
   "id": "ce54b052",
   "metadata": {},
   "outputs": [
    {
     "data": {
      "text/plain": [
       "tensor(2.4942, grad_fn=<NegBackward0>)"
      ]
     },
     "execution_count": 9,
     "metadata": {},
     "output_type": "execute_result"
    }
   ],
   "source": [
    "loss"
   ]
  },
  {
   "cell_type": "code",
   "execution_count": 10,
   "id": "2ef22a22",
   "metadata": {},
   "outputs": [],
   "source": [
    "n = X_test.nelement()\n",
    "# Loss on test set\n",
    "Xenc = F.one_hot(X_test, num_classes=27).float()\n",
    "logits = Xenc @ W\n",
    "counts = logits.exp()\n",
    "probs = counts / counts.sum(1, keepdims=True)\n",
    "loss = -probs[torch.arange(n), y_test].log().mean()"
   ]
  },
  {
   "cell_type": "code",
   "execution_count": 11,
   "id": "bc61226f",
   "metadata": {},
   "outputs": [
    {
     "data": {
      "text/plain": [
       "tensor(2.4929, grad_fn=<NegBackward0>)"
      ]
     },
     "execution_count": 11,
     "metadata": {},
     "output_type": "execute_result"
    }
   ],
   "source": [
    "loss"
   ]
  },
  {
   "cell_type": "code",
   "execution_count": 12,
   "id": "adab6a22",
   "metadata": {},
   "outputs": [],
   "source": [
    "################################################################################### Trigram ###################################################################################"
   ]
  },
  {
   "cell_type": "code",
   "execution_count": 13,
   "id": "112fbb91",
   "metadata": {},
   "outputs": [],
   "source": [
    "# Split data set\n",
    "train_data, dev_data, test_data = random_split(words, [0.8, 0.1, 0.1], generator=g)\n",
    "X_train, y_train = [], []\n",
    "def split_data(data):\n",
    "    X, y = [], []\n",
    "    for w in data:\n",
    "        chs = ['.'] + ['.'] + list(w) + ['.']\n",
    "        for ch1, ch2, ch3 in zip(chs, chs[1:], chs[2:]):\n",
    "            X.append(stoi[ch1] + 27 * stoi[ch2])\n",
    "            y.append(stoi[ch3])\n",
    "    X = torch.tensor(X)\n",
    "    y = torch.tensor(y)\n",
    "    return [X, y]\n",
    "\n",
    "# Create train, dev and test sets\n",
    "X_train, y_train = split_data(train_data)\n",
    "X_dev, y_dev = split_data(dev_data)\n",
    "X_test, y_test = split_data(test_data)"
   ]
  },
  {
   "cell_type": "code",
   "execution_count": 14,
   "id": "203a6dce",
   "metadata": {},
   "outputs": [],
   "source": [
    "W = torch.randn((729, 27), requires_grad=True, generator=g)"
   ]
  },
  {
   "cell_type": "code",
   "execution_count": 15,
   "id": "4d510f1a",
   "metadata": {},
   "outputs": [],
   "source": [
    "Xenc = F.one_hot(X_train, num_classes=729).float()"
   ]
  },
  {
   "cell_type": "code",
   "execution_count": 18,
   "id": "4fb0cf2f",
   "metadata": {},
   "outputs": [
    {
     "name": "stdout",
     "output_type": "stream",
     "text": [
      "Epoch: 1 loss: 3.797792434692383\n",
      "Epoch: 10 loss: 2.7900638580322266\n",
      "Epoch: 20 loss: 2.6386373043060303\n",
      "Epoch: 30 loss: 2.501171350479126\n",
      "Epoch: 40 loss: 2.4161949157714844\n",
      "Epoch: 50 loss: 2.3904247283935547\n",
      "Epoch: 60 loss: 2.3634285926818848\n",
      "Epoch: 70 loss: 2.3345844745635986\n",
      "Epoch: 80 loss: 2.4291305541992188\n",
      "Epoch: 90 loss: 2.347219944000244\n",
      "Epoch: 100 loss: 2.3716819286346436\n"
     ]
    }
   ],
   "source": [
    "n = X_train.nelement()\n",
    "for epoch in range(100):\n",
    "    # Forward pass\n",
    "    logits = Xenc @ W\n",
    "    counts = logits.exp()\n",
    "    probs = counts / counts.sum(1, keepdims=True)\n",
    "    loss = -probs[torch.arange(n), y_train].log().mean()\n",
    "    \n",
    "    # Backward pass\n",
    "    W.grad = None\n",
    "    loss.backward()\n",
    "    \n",
    "    # Update\n",
    "    W.data += -200 * W.grad\n",
    "    \n",
    "    if (epoch == 0 or ((epoch+1)%10) == 0):\n",
    "        print(f'Epoch: {epoch+1} loss: {loss}')"
   ]
  },
  {
   "cell_type": "code",
   "execution_count": 20,
   "id": "2b5f3a5d",
   "metadata": {},
   "outputs": [],
   "source": [
    "n = X_dev.nelement()\n",
    "Xenc = F.one_hot(X_dev, num_classes=729).float()\n",
    "# Loss on dev set\n",
    "logits = Xenc @ W\n",
    "counts = logits.exp()\n",
    "probs = counts / counts.sum(1, keepdims=True)\n",
    "loss = -probs[torch.arange(n), y_dev].log().mean()"
   ]
  },
  {
   "cell_type": "code",
   "execution_count": 21,
   "id": "24943f86",
   "metadata": {},
   "outputs": [
    {
     "data": {
      "text/plain": [
       "tensor(2.3251, grad_fn=<NegBackward0>)"
      ]
     },
     "execution_count": 21,
     "metadata": {},
     "output_type": "execute_result"
    }
   ],
   "source": [
    "loss"
   ]
  },
  {
   "cell_type": "code",
   "execution_count": 24,
   "id": "27f10d73",
   "metadata": {},
   "outputs": [],
   "source": [
    "n = X_test.nelement()\n",
    "Xenc = F.one_hot(X_test, num_classes=729).float()\n",
    "# Loss on test set\n",
    "logits = Xenc @ W\n",
    "counts = logits.exp()\n",
    "probs = counts / counts.sum(1, keepdims=True)\n",
    "loss = -probs[torch.arange(n), y_test].log().mean()"
   ]
  },
  {
   "cell_type": "code",
   "execution_count": 25,
   "id": "d9ca818a",
   "metadata": {},
   "outputs": [
    {
     "data": {
      "text/plain": [
       "tensor(2.3340, grad_fn=<NegBackward0>)"
      ]
     },
     "execution_count": 25,
     "metadata": {},
     "output_type": "execute_result"
    }
   ],
   "source": [
    "loss"
   ]
  },
  {
   "cell_type": "code",
   "execution_count": null,
   "id": "b21c5cbd",
   "metadata": {},
   "outputs": [],
   "source": []
  }
 ],
 "metadata": {
  "kernelspec": {
   "display_name": "Python 3 (ipykernel)",
   "language": "python",
   "name": "python3"
  },
  "language_info": {
   "codemirror_mode": {
    "name": "ipython",
    "version": 3
   },
   "file_extension": ".py",
   "mimetype": "text/x-python",
   "name": "python",
   "nbconvert_exporter": "python",
   "pygments_lexer": "ipython3",
   "version": "3.11.7"
  }
 },
 "nbformat": 4,
 "nbformat_minor": 5
}
